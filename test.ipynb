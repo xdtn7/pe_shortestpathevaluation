{
 "cells": [
  {
   "cell_type": "code",
   "execution_count": 2,
   "metadata": {},
   "outputs": [],
   "source": [
    "import networkx as nx\n",
    "import matplotlib.pyplot as mat\n",
    "import time as t\n",
    "import csv\n",
    "import random as rd"
   ]
  },
  {
   "cell_type": "code",
   "execution_count": 1,
   "metadata": {},
   "outputs": [
    {
     "ename": "NameError",
     "evalue": "name 'nx' is not defined",
     "output_type": "error",
     "traceback": [
      "\u001b[1;31m---------------------------------------------------------------------------\u001b[0m",
      "\u001b[1;31mNameError\u001b[0m                                 Traceback (most recent call last)",
      "\u001b[1;32m<ipython-input-1-e06afb031db0>\u001b[0m in \u001b[0;36m<module>\u001b[1;34m\u001b[0m\n\u001b[0;32m      7\u001b[0m \u001b[1;32mfor\u001b[0m \u001b[0mnonode\u001b[0m \u001b[1;32min\u001b[0m \u001b[0mSample\u001b[0m\u001b[1;33m:\u001b[0m\u001b[1;33m\u001b[0m\u001b[1;33m\u001b[0m\u001b[0m\n\u001b[0;32m      8\u001b[0m     \u001b[1;32mfor\u001b[0m \u001b[0mcount\u001b[0m \u001b[1;32min\u001b[0m \u001b[0mrange\u001b[0m\u001b[1;33m(\u001b[0m\u001b[1;36m1\u001b[0m\u001b[1;33m,\u001b[0m \u001b[1;36m11\u001b[0m\u001b[1;33m)\u001b[0m\u001b[1;33m:\u001b[0m\u001b[1;33m\u001b[0m\u001b[1;33m\u001b[0m\u001b[0m\n\u001b[1;32m----> 9\u001b[1;33m             \u001b[0mH\u001b[0m \u001b[1;33m=\u001b[0m \u001b[0mnx\u001b[0m\u001b[1;33m.\u001b[0m\u001b[0mbinomial_graph\u001b[0m\u001b[1;33m(\u001b[0m\u001b[0mnonode\u001b[0m\u001b[1;33m,\u001b[0m \u001b[0mrd\u001b[0m\u001b[1;33m.\u001b[0m\u001b[0mrandom\u001b[0m\u001b[1;33m(\u001b[0m\u001b[1;33m)\u001b[0m\u001b[1;33m,\u001b[0m\u001b[1;32mNone\u001b[0m\u001b[1;33m,\u001b[0m\u001b[1;32mTrue\u001b[0m\u001b[1;33m)\u001b[0m\u001b[1;33m\u001b[0m\u001b[1;33m\u001b[0m\u001b[0m\n\u001b[0m\u001b[0;32m     10\u001b[0m             \u001b[0mnonodes\u001b[0m \u001b[1;33m=\u001b[0m \u001b[0mnx\u001b[0m\u001b[1;33m.\u001b[0m\u001b[0mnumber_of_nodes\u001b[0m\u001b[1;33m(\u001b[0m\u001b[0mH\u001b[0m\u001b[1;33m)\u001b[0m\u001b[1;33m\u001b[0m\u001b[1;33m\u001b[0m\u001b[0m\n\u001b[0;32m     11\u001b[0m             \u001b[1;32mfor\u001b[0m \u001b[0mu\u001b[0m \u001b[1;32min\u001b[0m \u001b[0mrange\u001b[0m\u001b[1;33m(\u001b[0m\u001b[1;36m0\u001b[0m\u001b[1;33m,\u001b[0m \u001b[0mnonodes\u001b[0m\u001b[1;33m)\u001b[0m\u001b[1;33m:\u001b[0m\u001b[1;33m\u001b[0m\u001b[1;33m\u001b[0m\u001b[0m\n",
      "\u001b[1;31mNameError\u001b[0m: name 'nx' is not defined"
     ]
    }
   ],
   "source": [
    "w, h = 10000, 1000;\n",
    "#Matrix = [[0 for x in range(w)] for y in range(h)] \n",
    "Sample = [5, 20, 50, 70, 100, 150, 200]\n",
    "time1 = [[0 for x in range(w)] for y in range(h)] \n",
    "time2 = [[0 for x in range(w)] for y in range(h)] \n",
    "time3 = [[0 for x in range(w)] for y in range(h)] \n",
    "for nonode in Sample:\n",
    "    for count in range(1, 11):\n",
    "            H = nx.binomial_graph(nonode, rd.random(),None,True)\n",
    "            nonodes = nx.number_of_nodes(H)\n",
    "            for u in range(0, nonodes):\n",
    "                for v in range(0, nonodes):\n",
    "                #print(u, v, H.has_edge(u, v))\n",
    "                    if H.has_edge(u, v):\n",
    "                        H.add_weighted_edges_from([(u,v,rd.randint(1, 100))])\n",
    "            time1[nonode][count] = t.time_ns()\n",
    "            dstr = dict(nx.all_pairs_dijkstra_path(H))\n",
    "            time1[nonode][count] = t.time_ns() - time1[nonode][count]\n",
    "            time2[nonode][count] = t.time_ns()\n",
    "            bmfd = dict(nx.all_pairs_bellman_ford_path(H))\n",
    "            time2[nonode][count] = t.time_ns() - time2[nonode][count]\n",
    "            time3[nonode][count] = t.time_ns()\n",
    "            json = nx.johnson(H,weight = \"weight\")\n",
    "            time3[nonode][count] = t.time_ns() - time3[nonode][count]\n",
    "#print('ok')           \n",
    "            \n",
    "            \n",
    "with open('D:\\ProjectPyth\\datapyth\\pathdata.csv', 'w', newline='') as myfile:\n",
    "    wr = csv.writer(myfile, quoting=csv.QUOTE_ALL)\n",
    "    wr.writerow(['Vertices', 'Dijkstra', 'Bellman-Ford', 'Johnson'])\n",
    "    for nonode in Sample:\n",
    "        for count in range(1, 11):\n",
    "            wr.writerow([nonode, time1[nonode][count], time2[nonode][count], time3[nonode][count]])            \n",
    "        #nx.draw(H)\n",
    "        #print(len[3][0][1])\n",
    "        #print(time1)\n",
    "print('done')"
   ]
  }
 ],
 "metadata": {
  "kernelspec": {
   "display_name": "Python 3",
   "language": "python",
   "name": "python3"
  },
  "language_info": {
   "codemirror_mode": {
    "name": "ipython",
    "version": 3
   },
   "file_extension": ".py",
   "mimetype": "text/x-python",
   "name": "python",
   "nbconvert_exporter": "python",
   "pygments_lexer": "ipython3",
   "version": "3.8.3"
  }
 },
 "nbformat": 4,
 "nbformat_minor": 4
}
